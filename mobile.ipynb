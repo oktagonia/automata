{
 "cells": [
  {
   "cell_type": "markdown",
   "id": "219db21e-0348-457b-a21c-3a30bc2d958c",
   "metadata": {},
   "source": [
    "# Mobile Automata\n",
    "\n",
    "Mobile automata are like regular elementary automata except that they in each generation only three cells are updated. There is a pointer indicating which three cells are to be updated. The pointer itself is updated in each generation according to the rules."
   ]
  },
  {
   "cell_type": "code",
   "execution_count": 8,
   "id": "fb901fcd-2512-41bc-8ca7-d3c8829b7092",
   "metadata": {
    "tags": []
   },
   "outputs": [],
   "source": [
    "def rule(p, q):\n",
    "    a = bin(p)[2:]\n",
    "    b = bin(q)[2:]\n",
    "    n = ('0' * (8 - len(a))) + a\n",
    "    m = ('0' * (8 - len(b))) + b\n",
    "    \n",
    "    # For the left side of the tuple: it's the state of the new cell\n",
    "    # For the right side of the tuple: it's the direction of the pointer.\n",
    "    # Zero moves the pointer to the left, and one moves it to the right.\n",
    "    return {  '111': (n[0], m[0])\n",
    "            , '110': (n[1], m[1])\n",
    "            , '101': (n[2], m[2])\n",
    "            , '100': (n[3], m[3])\n",
    "            , '011': (n[4], m[4])\n",
    "            , '010': (n[5], m[5])\n",
    "            , '001': (n[6], m[6])\n",
    "            , '000': (n[7], m[7]) }"
   ]
  },
  {
   "cell_type": "code",
   "execution_count": 25,
   "id": "3840069a-e683-493b-9003-4ef2ee96ef57",
   "metadata": {
    "tags": []
   },
   "outputs": [],
   "source": [
    "def step(parent, rule):\n",
    "    pointer = parent[0]\n",
    "    generation = parent[1]\n",
    "    interval = generation[pointer-1:pointer+2]\n",
    "    new = rule[interval]\n",
    "    dp = {'0': -1, '1': 1}[new[0]]\n",
    "    return (pointer + dp, ''.join(['0', generation[:pointer-1], new[1], generation[pointer+2:], '0']))\n",
    "\n",
    "def generate(init, rule, steps):\n",
    "    out = []\n",
    "    curr = init\n",
    "    for _ in range(steps):\n",
    "        out.append(curr)\n",
    "        curr = step(curr, rule)\n",
    "    return out"
   ]
  },
  {
   "cell_type": "markdown",
   "id": "bd72d633-6d9d-42a8-bbc5-24344ce166c5",
   "metadata": {},
   "source": [
    "Now I have to figure out how to visualize this. If I can do that then Turing machines should be easy peasy."
   ]
  },
  {
   "cell_type": "code",
   "execution_count": null,
   "id": "ab1b78ed-c9bf-4280-b0ff-dbd1a025d8b0",
   "metadata": {},
   "outputs": [],
   "source": []
  }
 ],
 "metadata": {
  "kernelspec": {
   "display_name": "Python 3 (ipykernel)",
   "language": "python",
   "name": "python3"
  },
  "language_info": {
   "codemirror_mode": {
    "name": "ipython",
    "version": 3
   },
   "file_extension": ".py",
   "mimetype": "text/x-python",
   "name": "python",
   "nbconvert_exporter": "python",
   "pygments_lexer": "ipython3",
   "version": "3.8.16"
  }
 },
 "nbformat": 4,
 "nbformat_minor": 5
}
